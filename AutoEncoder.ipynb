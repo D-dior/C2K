{
 "cells": [
  {
   "cell_type": "code",
   "execution_count": null,
   "metadata": {},
   "outputs": [],
   "source": [
    "import pandas as pd\n",
    "input = pd.read_csv('/spstorage/INTERNSHIP/YW/io_df/expanded_X_lm.csv')\n",
    "input.head()"
   ]
  },
  {
   "cell_type": "markdown",
   "metadata": {},
   "source": [
    "   Unnamed: 0                           Unnamed: 0.1  ENSG00000113552  ...  ENSG00000013364  ENSG00000070831  ENSG00000135164\n",
    "0           0  CPC011_MCF7_24H_X4_B5_DUO52HI53LO:E14           6.4833  ...         5.944550        11.997450          3.48680\n",
    "1           1  CPC011_MCF7_24H_X5_B5_DUO52HI53LO:E14          10.1227  ...         6.979200        12.629600          7.59335\n",
    "2           2   CPC011_MCF7_6H_X1_B3_DUO52HI53LO:E14           9.0735  ...         6.424000        12.019400          7.04855\n",
    "3           3   CPC011_MCF7_6H_X3_B3_DUO52HI53LO:E14          10.5285  ...         4.958450        10.662649         10.96180\n",
    "4           4  CPD002_MCF7_24H_X1_B6_DUO52HI53LO:O07           9.1412  ...         8.183276        12.621100          7.22495\n",
    "(44307 rows, 980 columns)"
   ]
  },
  {
   "cell_type": "code",
   "execution_count": null,
   "metadata": {},
   "outputs": [],
   "source": [
    "output = pd.read_csv('/spstorage/INTERNSHIP/YW/io_df/tpm_lm_output.csv')\n",
    "output.info()\n",
    "#RangeIndex: 4095 entries, 0 to 4094\n",
    "#Columns: 979 entries, index to ENSG00000276293\n",
    "#dtypes: float64(978), object(1)\n",
    "#memory usage: 30.6+ MB\n",
    "output.head()"
   ]
  },
  {
   "cell_type": "markdown",
   "metadata": {},
   "source": [
    "                  index  ENSG00000000003  ENSG00000000457  ...  ENSG00000263528  ENSG00000276023  ENSG00000276293\n",
    "0  P01-2500-KC0012-MCF7           7.0344           6.1330  ...           2.3117          21.7542           9.3369\n",
    "1  P01-2500-KC0051-MCF7           9.0145           4.8013  ...           3.2188          18.8532           9.5702\n",
    "2  P01-2500-KC0065-MCF7           8.8099           4.7698  ...           2.8870          18.9459           8.1503\n",
    "3  P01-2500-KC0094-MCF7           8.0257           4.9096  ...           3.6785          18.9913          10.3160\n",
    "4  P01-2500-KC0117-MCF7           8.6289           4.8700  ...           3.5175          19.3135           9.2995"
   ]
  },
  {
   "cell_type": "code",
   "execution_count": null,
   "metadata": {},
   "outputs": [],
   "source": [
    "meta = pd.read_csv('/spstorage/INTERNSHIP/SY/metadata/meta_merged.csv')\n",
    "\n",
    "filtered_meta = meta[meta['Kmap_sample'].isin(output['index'])]\n",
    "print(filtered_meta)"
   ]
  },
  {
   "cell_type": "markdown",
   "metadata": {},
   "source": [
    "              Kmap_sample Kmap_drug_lfc  Kmap_dose_lfc  ...                                    Cmap_sample  Time Cmap_dose\n",
    "0     P01-100-KC0051-MCF7        KC0051            100  ...       CPC011_MCF7_6H:BRD-K41051431-001-01-6:10    6H     10 uM\n",
    "1     P01-100-KC0239-MCF7        KC0239            100  ...      CPD002_MCF7_24H:BRD-K91289464-001-07-8:10   24H     10 uM\n",
    "2     P01-100-KC0298-MCF7        KC0298            100  ...      CPD001_MCF7_24H:BRD-K04804440-311-03-1:10   24H     10 uM\n",
    "3     P01-100-KC0342-MCF7        KC0342            100  ...       CPD003_MCF7_6H:BRD-K13240564-001-01-8:10    6H     10 uM\n",
    "4     P01-100-KC0824-MCF7        KC0824            100  ...       CPD002_MCF7_6H:BRD-K28935038-001-01-4:10    6H     10 uM\n",
    "...                   ...           ...            ...  ...                                            ...   ...       ...\n",
    "1201  P15-500-KC0836-MCF7        KC0836            500  ...      CPC014_MCF7_24H:BRD-K93331255-001-01-2:10   24H     10 uM\n",
    "1202  P15-500-KC1040-MCF7        KC1040            500  ...  HOG002_MCF7_24H:BRD-K76674262-001-02-5:0.0045   24H  0.004 uM\n",
    "1203  P15-500-KC1584-MCF7        KC1584            500  ...            ERAM001_MCF7_24H:BRD-K85606544:0.53   24H    0.5 uM\n",
    "1204  P15-500-KC1658-MCF7        KC1658            500  ...       CPD002_MCF7_6H:BRD-K73541271-001-02-8:10    6H     10 uM\n",
    "1205  P15-500-KC1662-MCF7        KC1662            500  ...      CPC014_MCF7_24H:BRD-K14681867-015-01-6:10   24H     10 uM\n",
    "\n",
    "[1206 rows x 22 columns]"
   ]
  },
  {
   "cell_type": "code",
   "execution_count": null,
   "metadata": {},
   "outputs": [],
   "source": [
    "filtered_output = output[output['index'].isin(filtered_meta['Kmap_sample'])]\n",
    "print(filtered_output)\n"
   ]
  },
  {
   "cell_type": "markdown",
   "metadata": {},
   "source": [
    "                     index  ENSG00000000003  ENSG00000000457  ...  ENSG00000263528  ENSG00000276023  ENSG00000276293\n",
    "1     P01-2500-KC0051-MCF7           9.0145           4.8013  ...           3.2188          18.8532           9.5702\n",
    "11    P01-2500-KC0239-MCF7           8.2913           4.6323  ...           2.9521          19.1537           9.2407\n",
    "15    P01-2500-KC0298-MCF7           8.4217           4.5272  ...           3.7591          18.9011          14.1021\n",
    "18    P01-2500-KC0342-MCF7           9.4707           4.8993  ...           3.4430          19.4092          11.3559\n",
    "37    P01-2500-KC0824-MCF7           8.8022           4.5605  ...           3.8619          18.2571          10.0801\n",
    "...                    ...              ...              ...  ...              ...              ...              ...\n",
    "4058   P15-100-KC0836-MCF7           9.6149           4.7214  ...           3.9626          19.9767          10.5430\n",
    "4066   P15-100-KC1040-MCF7           4.6543           9.2098  ...          10.4869          35.0244           5.7728\n",
    "4086   P15-100-KC1584-MCF7          10.4020           4.8365  ...           5.0485          19.5696          11.1368\n",
    "4091   P15-100-KC1658-MCF7           9.4273           4.5902  ...           4.4360          19.6238          13.0556\n",
    "4092   P15-100-KC1662-MCF7           8.2464           4.8404  ...           4.0514          19.6968          10.7311\n",
    "\n",
    "[1134 rows x 979 columns]"
   ]
  },
  {
   "cell_type": "code",
   "execution_count": null,
   "metadata": {},
   "outputs": [],
   "source": [
    "duplicate_output = output[output.duplicated(subset=['index'], keep=False)]\n",
    "print(f\"Duplicate rows in output_df: {len(duplicate_output)}\")\n",
    "#0\n",
    "duplicate_meta = filtered_meta[filtered_meta.duplicated(subset=['Kmap_sample'], keep=False)]\n",
    "print(f\"Duplicate rows in filtered_meta: {len(duplicate_meta)}\")\n",
    "#96"
   ]
  },
  {
   "cell_type": "code",
   "execution_count": null,
   "metadata": {},
   "outputs": [],
   "source": [
    "filtered_meta = filtered_meta.drop_duplicates(subset=['Kmap_sample'])\n",
    "print(filtered_meta)"
   ]
  },
  {
   "cell_type": "markdown",
   "metadata": {},
   "source": [
    "              Kmap_sample Kmap_drug_lfc  Kmap_dose_lfc  ...                                    Cmap_sample  Time Cmap_dose\n",
    "0     P01-100-KC0051-MCF7        KC0051            100  ...       CPC011_MCF7_6H:BRD-K41051431-001-01-6:10    6H     10 uM\n",
    "1     P01-100-KC0239-MCF7        KC0239            100  ...      CPD002_MCF7_24H:BRD-K91289464-001-07-8:10   24H     10 uM\n",
    "2     P01-100-KC0298-MCF7        KC0298            100  ...      CPD001_MCF7_24H:BRD-K04804440-311-03-1:10   24H     10 uM\n",
    "3     P01-100-KC0342-MCF7        KC0342            100  ...       CPD003_MCF7_6H:BRD-K13240564-001-01-8:10    6H     10 uM\n",
    "4     P01-100-KC0824-MCF7        KC0824            100  ...       CPD002_MCF7_6H:BRD-K28935038-001-01-4:10    6H     10 uM\n",
    "...                   ...           ...            ...  ...                                            ...   ...       ...\n",
    "1201  P15-500-KC0836-MCF7        KC0836            500  ...      CPC014_MCF7_24H:BRD-K93331255-001-01-2:10   24H     10 uM\n",
    "1202  P15-500-KC1040-MCF7        KC1040            500  ...  HOG002_MCF7_24H:BRD-K76674262-001-02-5:0.0045   24H  0.004 uM\n",
    "1203  P15-500-KC1584-MCF7        KC1584            500  ...            ERAM001_MCF7_24H:BRD-K85606544:0.53   24H    0.5 uM\n",
    "1204  P15-500-KC1658-MCF7        KC1658            500  ...       CPD002_MCF7_6H:BRD-K73541271-001-02-8:10    6H     10 uM\n",
    "1205  P15-500-KC1662-MCF7        KC1662            500  ...      CPC014_MCF7_24H:BRD-K14681867-015-01-6:10   24H     10 uM\n",
    "\n",
    "[1134 rows x 22 columns]"
   ]
  },
  {
   "cell_type": "markdown",
   "metadata": {},
   "source": [
    "저장함"
   ]
  }
 ],
 "metadata": {
  "language_info": {
   "name": "python"
  }
 },
 "nbformat": 4,
 "nbformat_minor": 2
}
