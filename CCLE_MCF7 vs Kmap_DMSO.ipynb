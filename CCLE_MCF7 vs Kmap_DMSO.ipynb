{
 "cells": [
  {
   "cell_type": "markdown",
   "metadata": {},
   "source": [
    "# MCF7 cell line과 Kmap_DMSO 평균으로 plot"
   ]
  },
  {
   "cell_type": "markdown",
   "metadata": {},
   "source": [
    "## MCF7의 CCL ID 알아내기"
   ]
  },
  {
   "cell_type": "code",
   "execution_count": null,
   "metadata": {},
   "outputs": [],
   "source": [
    "import pandas as pd\n",
    "import pickle\n",
    "cell_info = pd.read_pickle('/spstorage/INTERNSHIP/SY/CMAP/cell_info.pkl')\n",
    "cell_info.info()"
   ]
  },
  {
   "cell_type": "markdown",
   "metadata": {},
   "source": [
    "- class 'pandas.core.frame.DataFrame'\n",
    "RangeIndex: 240 entries, 0 to 239\n",
    "Data columns (total 20 columns):\n",
    " #   Column                   Non-Null Count  Dtype  \n",
    "---  ------                   --------------  -----  \n",
    " 0   cell_iname               240 non-null    object \n",
    " 1   cellosaurus_id           151 non-null    object \n",
    " 2   donor_age                83 non-null     object \n",
    " 3   donor_age_death          0 non-null      float64\n",
    " 4   donor_disease_age_onset  0 non-null      float64\n",
    " 5   doubling_time            145 non-null    object \n",
    " 6   growth_medium            144 non-null    object \n",
    " 7   provider_catalog_id      72 non-null     object \n",
    " 8   feature_id               92 non-null     object \n",
    " 9   cell_type                240 non-null    object \n",
    " 10  donor_ethnicity          240 non-null    object \n",
    " 11  donor_sex                240 non-null    object \n",
    " 12  donor_tumor_phase        240 non-null    object \n",
    " 13  cell_lineage             240 non-null    object \n",
    " 14  primary_disease          240 non-null    object \n",
    " 15  subtype                  240 non-null    object \n",
    " 16  provider_name            137 non-null    object \n",
    " 17  growth_pattern           240 non-null    object \n",
    " 18  ccle_name                138 non-null    object \n",
    " 19  cell_alias               146 non-null    object \n",
    "dtypes: float64(2), object(18)\n",
    "memory usage: 37.6+ KB"
   ]
  },
  {
   "cell_type": "code",
   "execution_count": null,
   "metadata": {},
   "outputs": [],
   "source": [
    "cell_info.head()"
   ]
  },
  {
   "cell_type": "markdown",
   "metadata": {},
   "source": [
    "  cell_iname cellosaurus_id donor_age  donor_age_death  ...  provider_name growth_pattern ccle_name cell_alias\n",
    "0       1HAE            NaN       NaN              NaN  ...            NaN        unknown       NaN        NaN\n",
    "1       AALE            NaN       NaN              NaN  ...            NaN        unknown       NaN        NaN\n",
    "2  AG06263_2            NaN       NaN              NaN  ...            NaN        unknown       NaN        NaN\n",
    "3  AG06840_A            NaN       NaN              NaN  ...            NaN        unknown       NaN        NaN\n",
    "4  AG078N1_1            NaN       NaN              NaN  ...            NaN        unknown       NaN        NaN\n",
    "\n",
    "[5 rows x 20 columns]"
   ]
  },
  {
   "cell_type": "code",
   "execution_count": null,
   "metadata": {},
   "outputs": [],
   "source": [
    "pd.set_option('display.max_columns', None)\n",
    "# 모든 column을 뽑을 수 있게\n",
    "\n",
    "cell_info[cell_info['cell_iname'] == 'MCF7']"
   ]
  },
  {
   "cell_type": "markdown",
   "metadata": {},
   "source": [
    " cell_iname cellosaurus_id donor_age  donor_age_death  \\\n",
    "151       MCF7      CVCL_0031        40              NaN   \n",
    "\n",
    "     donor_disease_age_onset doubling_time             growth_medium  \\\n",
    "151                      NaN            72  EMEM ATCC catalog # 3-23   \n",
    "\n",
    "    provider_catalog_id feature_id cell_type donor_ethnicity donor_sex  \\\n",
    "151              HTB-22      c-438     tumor       Caucasian         F   \n",
    "\n",
    "    donor_tumor_phase cell_lineage primary_disease         subtype  \\\n",
    "151        Metastatic       breast   breast cancer  adenocarcinoma   \n",
    "\n",
    "    provider_name growth_pattern    ccle_name cell_alias  \n",
    "151          ATCC       adherent  MCF7_BREAST     IBMF-7  "
   ]
  },
  {
   "cell_type": "markdown",
   "metadata": {},
   "source": [
    "#### 관련 원하는 id가 나오지 않아서 새로운 파일 생성"
   ]
  },
  {
   "cell_type": "code",
   "execution_count": null,
   "metadata": {},
   "outputs": [],
   "source": [
    "# 가능한 구분자 목록\n",
    "delimiters = [',', '\\t', ';', ' ']\n",
    "\n",
    "# 새 파일 경로를 file_path에 저장\n",
    "# 각 구분자로 파일 읽기 시도\n",
    "for delimiter in delimiters:\n",
    "    try:\n",
    "        df = pd.read_csv(file_path, delimiter=delimiter)\n",
    "        print(f\"Delimiter '{delimiter}'로 읽은 데이터:\")\n",
    "        print(df.head())\n",
    "        break  # 올바른 구분자로 읽었다면 반복문 탈출\n",
    "    except Exception as e:\n",
    "        print(f\"Delimiter '{delimiter}'로 읽기 실패: {e}\")"
   ]
  },
  {
   "cell_type": "markdown",
   "metadata": {},
   "source": [
    "Delimiter ','로 읽은 데이터:\n",
    "                               ColName\\tCell\\tccl_id\n",
    "0                          HCC2429_LUNG\\tHCC2429\\tNA\n",
    "1                          HCC2450_LUNG\\tHCC2450\\tNA\n",
    "2  INA6_HAEMATOPOIETIC_AND_LYMPHOID_TISSUE\\tINA6\\tNA\n",
    "3                             KD_SOFT_TISSUE\\tKD\\tNA"
   ]
  },
  {
   "cell_type": "markdown",
   "metadata": {},
   "source": [
    "#### 파일을 확인하였을때 \\이 구분자인 것으로 보임"
   ]
  },
  {
   "cell_type": "code",
   "execution_count": null,
   "metadata": {},
   "outputs": [],
   "source": [
    "try:\n",
    "    df1 = pd.read_csv(file_path, sep='\\t')  # 탭 구분자로 시도\n",
    "    print(df1.head())\n",
    "except:\n",
    "    print(\"Failed\")"
   ]
  },
  {
   "cell_type": "markdown",
   "metadata": {},
   "source": [
    "                                   ColName     Cell  ccl_id\n",
    "0                             HCC2429_LUNG  HCC2429     NaN\n",
    "1                             HCC2450_LUNG  HCC2450     NaN\n",
    "2  INA6_HAEMATOPOIETIC_AND_LYMPHOID_TISSUE     INA6     NaN\n",
    "3                           KD_SOFT_TISSUE       KD     NaN\n",
    "4                      KPMRTRY_SOFT_TISSUE  KPMRTRY     NaN\n",
    "\n",
    "#### 성공!"
   ]
  },
  {
   "cell_type": "code",
   "execution_count": null,
   "metadata": {},
   "outputs": [],
   "source": [
    "# 이 파일을 SY 디렉토리에 저장\n",
    "ccl_info = df1\n",
    "ccl_info.to_csv('/위치/INTERNSHIP/SY/CCLE_MCF7/ccl_info.csv', index=False)"
   ]
  },
  {
   "cell_type": "markdown",
   "metadata": {},
   "source": [
    "#### 잘못된 파일이라 새로운 파일로 대체& 같은 작업 반복"
   ]
  },
  {
   "cell_type": "code",
   "execution_count": null,
   "metadata": {},
   "outputs": [],
   "source": [
    "ccl_info"
   ]
  },
  {
   "cell_type": "markdown",
   "metadata": {},
   "source": [
    "        ccl_id cell_line_name  expasy_id       tissue          expasy_disease  \\\n",
    "0     CCL_0001          105KC  CVCL_M605  Soft_Tissue          Chondrosarcoma   \n",
    "1     CCL_0002         1321N1  CVCL_0110        Brain             Astrocytoma   \n",
    "2     CCL_0003           143B  CVCL_2270         Bone            Osteosarcoma   \n",
    "3     CCL_0004          22Rv1  CVCL_1045     Prostate      Prostate carcinoma   \n",
    "4     CCL_0005       23132/87  CVCL_1046      Stomach  Gastric adenocarcinoma   \n",
    "...        ...            ...        ...          ...                     ...   \n",
    "1770  CCL_1808           CD34          X         Bone             Bone marrow   \n",
    "1771  CCL_1809            PHH          X        Liver            Primary cell   \n",
    "1772  CCL_1810            SKB          X  Soft_Tissue                Myoblast   \n",
    "1773  CCL_1811         A-1847  CVCL_9724        Ovary       Ovarian carcinoma   \n",
    "1774  CCL_1812           M249  CVCL_D755         Skin                Melanoma   \n",
    "\n",
    "                CLASS1       CLASS2                CLASS3 EWHA_symbol  \\\n",
    "0      Musculoskeletal  Soft_Tissue               Sarcoma        SARC   \n",
    "1           Neurologic        Brain    Lower Grade Glioma         LGG   \n",
    "2      Musculoskeletal         Bone          Osteosarcoma         OSS   \n",
    "3           Urogenital     Prostate    Prostate Carcinoma        PRAD   \n",
    "4     Gastrointestinal      Stomach     Stomach Carcinoma        STAD   \n",
    "...                ...          ...                   ...         ...   \n",
    "1770   Musculoskeletal         Bone  [ Finite Cell Line ]         NaN   \n",
    "1771  Gastrointestinal        Liver  [ Finite Cell Line ]         NaN   \n",
    "1772   Musculoskeletal  Soft_Tissue  [ Finite Cell Line ]         NaN   \n",
    "1773        Urogenital        Ovary     Ovarian carcinoma          OV   \n",
    "1774              Skin         Skin              Melanoma        SKCM   \n",
    "\n",
    "     TCGA_cancer_symbol  \n",
    "0             TCGA-SARC  \n",
    "1              TCGA-LGG  \n",
    "2                   NaN  \n",
    "3             TCGA-PRAD  \n",
    "4             TCGA-STAD  \n",
    "...                 ...  \n",
    "1770                NaN  \n",
    "1771                NaN  \n",
    "1772                NaN  \n",
    "1773                NaN  \n",
    "1774          TCGA-SKCM  \n",
    "\n",
    "[1775 rows x 10 columns]"
   ]
  },
  {
   "cell_type": "code",
   "execution_count": null,
   "metadata": {},
   "outputs": [],
   "source": [
    "ccl_info[ccl_info.cell_line_name == 'MCF-7']"
   ]
  },
  {
   "cell_type": "markdown",
   "metadata": {},
   "source": [
    "       ccl_id cell_line_name  expasy_id  tissue  \\\n",
    "767  CCL_0772          MCF-7  CVCL_0031  Breast   \n",
    "\n",
    "                                        expasy_disease  CLASS1  CLASS2  \\\n",
    "767  Invasive ductal carcinoma, not otherwise speci...  Breast  Breast   \n",
    "\n",
    "               CLASS3 EWHA_symbol TCGA_cancer_symbol  \n",
    "767  Breast Carcinoma        BRCA          TCGA-BRCA  "
   ]
  },
  {
   "cell_type": "markdown",
   "metadata": {},
   "source": [
    "### CCL_0772"
   ]
  },
  {
   "cell_type": "markdown",
   "metadata": {},
   "source": [
    "## kmap_DMSO 평균 데이터"
   ]
  },
  {
   "cell_type": "code",
   "execution_count": null,
   "metadata": {},
   "outputs": [],
   "source": [
    "# MCF7 세포주에 있는 모든 유전자 발현량에 따른 평균 값\n",
    "kmap_DMSO = pd.read_csv('/위치/INTERNSHIP/SY/TPM_DMSO_average.csv')\n",
    "kmap_DMSO.info"
   ]
  },
  {
   "cell_type": "markdown",
   "metadata": {},
   "source": [
    "<bound method DataFrame.info of\n",
    "             Unnamed: 0    averaged\n",
    "0      ENSG00000000003    9.870343\n",
    "1      ENSG00000000005    0.005088\n",
    "2      ENSG00000000419  144.370632\n",
    "3      ENSG00000000457    4.991778\n",
    "4      ENSG00000000460   10.034727\n",
    "...                ...         ...\n",
    "19422  ENSG00000286137    0.000000\n",
    "19423  ENSG00000286169    0.435802\n",
    "19424  ENSG00000286175    0.001039\n",
    "19425  ENSG00000286219    1.299128\n",
    "19426  ENSG00000286228    0.000000\n",
    "\n",
    "[19427 rows x 2 columns]>"
   ]
  },
  {
   "cell_type": "markdown",
   "metadata": {},
   "source": [
    "## CCLE_MCF7 데이터 추출 및 전처리"
   ]
  },
  {
   "cell_type": "markdown",
   "metadata": {},
   "source": [
    "R 프로그램에서 'CCLE_RNAseq_v2_TPM_Matrix.Rdata'를 csv 파일로 만들기(TpmMat을 객체로)"
   ]
  },
  {
   "cell_type": "code",
   "execution_count": null,
   "metadata": {},
   "outputs": [],
   "source": [
    "ccle_tpm = pd.read_csv('/위치/INTERNSHIP/SY/CCLE_MCF7/CCLE_RNAseq_v2_TPM_Matrix.csv')\n",
    "ccle_tpm.info()"
   ]
  },
  {
   "cell_type": "markdown",
   "metadata": {},
   "source": [
    "- class 'pandas.core.frame.DataFrame'\n",
    "RangeIndex: 35551 entries, 0 to 35550\n",
    "Columns: 1076 entries, CCL_0004 to CCL_1615\n",
    "dtypes: float64(1076)\n",
    "memory usage: 291.8 MB"
   ]
  },
  {
   "cell_type": "markdown",
   "metadata": {},
   "source": [
    "### CCLE - MCF7을 알아내기"
   ]
  },
  {
   "cell_type": "code",
   "execution_count": null,
   "metadata": {},
   "outputs": [],
   "source": [
    "# CCLE에서 MCF7세포주 column을 찾기\n",
    "if 'CCL_0772' in ccle_tpm.columns:\n",
    "    specific_column = ccle_tpm[['CCL_0772']]\n",
    "    specific_column.head()\n",
    "else:\n",
    "    print(\"Fail\")"
   ]
  },
  {
   "cell_type": "markdown",
   "metadata": {},
   "source": [
    "    CCL_0772\n",
    "0   0.115042\n",
    "1  21.439021\n",
    "2   0.282656\n",
    "3   0.000000\n",
    "4   0.000000"
   ]
  },
  {
   "cell_type": "markdown",
   "metadata": {},
   "source": [
    "CCLE_MCF7에 대한 발현값이 나왔지만 유전자 이름이 나와있지 않아서 Rdata에 있던 REF column도 csv 파일로 생성"
   ]
  },
  {
   "cell_type": "code",
   "execution_count": null,
   "metadata": {},
   "outputs": [],
   "source": [
    "ccle_ref = pd.read_csv('/spstorage/INTERNSHIP/SY/CCLE_MCF7/CCLE_RNAseq_v2_REF.csv')\n",
    "ccle_ref.info()"
   ]
  },
  {
   "cell_type": "markdown",
   "metadata": {},
   "source": [
    "class 'pandas.core.frame.DataFrame'\n",
    "RangeIndex: 35551 entries, 0 to 35550\n",
    "Data columns (total 6 columns):\n",
    " .   Column          Non-Null Count  Dtype \n",
    "---  ------          --------------  ----- \n",
    " 0   hgnc_id         35551 non-null  object\n",
    " 1   gene            35551 non-null  object\n",
    " 2   entrez          35551 non-null  int64 \n",
    " 3   gene_name       35551 non-null  object\n",
    " 4   gene_type       35551 non-null  object\n",
    " 5   gene_length_bp  35551 non-null  int64 \n",
    "dtypes: int64(2), object(4)\n",
    "memory usage: 1.6+ MB"
   ]
  },
  {
   "cell_type": "markdown",
   "metadata": {},
   "source": [
    "gene name이 있으므로 이 column을 추출하여 TPM dataframe에 병합"
   ]
  },
  {
   "cell_type": "code",
   "execution_count": null,
   "metadata": {},
   "outputs": [],
   "source": [
    "#CCLE_TPM 데이터 길이 일치 여부 확인\n",
    "\n",
    "len(ccle_tpm)\n",
    "#35551\n",
    "\n",
    "# 같은 값임이 확인됨"
   ]
  },
  {
   "cell_type": "code",
   "execution_count": null,
   "metadata": {},
   "outputs": [],
   "source": [
    "#CCLE_TPM 값에 유전자가 따로 없기 때문에 row=True로 R에서 다시 출력함\n",
    "ccle_tpm.info"
   ]
  },
  {
   "cell_type": "markdown",
   "metadata": {},
   "source": [
    "<bound method DataFrame.info of\n",
    "         Unnamed: 0   CCL_0004   CCL_0005   CCL_0007   CCL_0006  ...   CCL_1869   CCL_1870   CCL_1871   CCL_1872   CCL_1615\n",
    "0          DDX11L1   0.000000   0.044468   0.000000   0.060622  ...   0.000000   0.000000   0.000000   0.051231   0.000000\n",
    "1           WASH7P  35.534208  28.966790  15.936516  14.738057  ...  32.260119  17.572490  42.720677  21.069315  35.776546\n",
    "2      MIR1302-2HG   0.155758   0.038240   0.561957   0.677712  ...   0.932012   1.027953   0.269613   0.044056   0.687272\n",
    "3          FAM138A   0.000000   0.032029   0.743178   0.480304  ...   0.173473   0.035874   0.096780   0.036900   0.088560\n",
    "4           OR4G4P   0.000000   0.000000   0.095664   0.112411  ...   0.055824   0.184713   0.000000   0.000000   0.056998\n",
    "...            ...        ...        ...        ...        ...  ...        ...        ...        ...        ...        ...\n",
    "35546      ELOCP24   0.000000   0.000000   0.000000   0.000000  ...   0.000000   0.000000   0.000000   0.000000   0.000000\n",
    "35547       TRPC6P   0.000000   0.000000   0.000000   0.000000  ...   0.000000   0.000000   0.089375   0.000000   0.000000\n",
    "35548         IL9R   1.613158   1.169419   0.192957   0.042513  ...   0.063338   0.069858   0.062820   0.000000   0.107782\n",
    "35549       WASIR1   0.875114   0.111128   0.229205   0.050499  ...   0.351101   0.954278   1.567031   0.000000   3.687252\n",
    "35550     DDX11L16   0.000000   0.090798   0.035114   0.015473  ...   0.061472   0.050850   0.022863   0.130759   0.031382\n",
    "\n",
    "[35551 rows x 1077 columns]>"
   ]
  },
  {
   "cell_type": "code",
   "execution_count": null,
   "metadata": {},
   "outputs": [],
   "source": [
    "# Unnamed: 0랑 CCL_0772 열만 출력\n",
    "selected_columns = ccle_tpm[['Unnamed: 0', 'CCL_0772']]\n",
    "selected_columns.head()"
   ]
  },
  {
   "cell_type": "markdown",
   "metadata": {},
   "source": [
    "    Unnamed: 0   CCL_0772\n",
    "0      DDX11L1   0.115042\n",
    "1       WASH7P  21.439021\n",
    "2  MIR1302-2HG   0.282656\n",
    "3      FAM138A   0.000000\n",
    "4       OR4G4P   0.000000"
   ]
  },
  {
   "cell_type": "markdown",
   "metadata": {},
   "source": [
    "### symbol-> ensembl로 gene mapping"
   ]
  },
  {
   "cell_type": "markdown",
   "metadata": {},
   "source": [
    "Unnamed: 0는 유전자 symbol 이므로 유전자 mapping할 수 있는 data가져오기"
   ]
  },
  {
   "cell_type": "code",
   "execution_count": null,
   "metadata": {},
   "outputs": [],
   "source": [
    "gene_info = pd.read_pickle('/spstorage/INTERNSHIP/SY/CMAP/gene_info.pkl')\n",
    "gene_info.info()"
   ]
  },
  {
   "cell_type": "markdown",
   "metadata": {},
   "source": [
    "class 'pandas.core.frame.DataFrame'\n",
    "RangeIndex: 12146 entries, 0 to 12145\n",
    "Data columns (total 7 columns):\n",
    " .   Column         Non-Null Count  Dtype \n",
    "---  ------         --------------  ----- \n",
    " 0   gene_id        12146 non-null  int64 \n",
    " 1   gene_symbol    12146 non-null  object\n",
    " 2   ensembl_id     12134 non-null  object\n",
    " 3   gene_title     12146 non-null  object\n",
    " 4   gene_type      12146 non-null  object\n",
    " 5   src            12146 non-null  object\n",
    " 6   feature_space  12146 non-null  object\n",
    "dtypes: int64(1), object(6)\n",
    "memory usage: 664.4+ KB"
   ]
  },
  {
   "cell_type": "code",
   "execution_count": null,
   "metadata": {},
   "outputs": [],
   "source": [
    "# dataframe의 2개 열을 뽑아 새로운 dataframe으로 만들기\n",
    "gene_mapping = gene_info[['gene_symbol', 'ensembl_id']]\n",
    "gene_mapping.info"
   ]
  },
  {
   "cell_type": "markdown",
   "metadata": {},
   "source": [
    "<bound method DataFrame.info of\n",
    "       gene_symbol       ensembl_id\n",
    "0            NAT2  ENSG00000156006\n",
    "1        SERPINA3  ENSG00000196136\n",
    "2           AANAT  ENSG00000129673\n",
    "3           ABCA4  ENSG00000198691\n",
    "4            AOC1  ENSG00000002726\n",
    "...           ...              ...\n",
    "12141      TIMM23  ENSG00000265354\n",
    "12142      ZNF783  ENSG00000204946\n",
    "12143        MICA  ENSG00000204520\n",
    "12144     TMEM257  ENSG00000221870\n",
    "12145    C10orf12  ENSG00000155640\n",
    "\n",
    "[12146 rows x 2 columns]>\n"
   ]
  },
  {
   "cell_type": "code",
   "execution_count": null,
   "metadata": {},
   "outputs": [],
   "source": [
    "gene_mapping.to_csv('/spstorage/INTERNSHIP/SY/CMAP/gene_mapping.csv', index=True)\n",
    "\n",
    "# 혹시 모르니 데이터 무결성을 위해 copy의 gene_symbol로 열 이름 변경\n",
    "selected_columns_copy = selected_columns.copy()\n",
    "selected_columns_copy.rename(columns={'Unnamed: 0': 'gene_symbol'}, inplace=True) \n",
    "\n",
    "selected_columns_copy.head()"
   ]
  },
  {
   "cell_type": "markdown",
   "metadata": {},
   "source": [
    "   gene_symbol   CCL_0772\n",
    "0      DDX11L1   0.115042\n",
    "1       WASH7P  21.439021\n",
    "2  MIR1302-2HG   0.282656\n",
    "3      FAM138A   0.000000\n",
    "4       OR4G4P   0.000000"
   ]
  },
  {
   "cell_type": "code",
   "execution_count": null,
   "metadata": {},
   "outputs": [],
   "source": [
    "gene_mapping.head()"
   ]
  },
  {
   "cell_type": "markdown",
   "metadata": {},
   "source": [
    " gene_symbol       ensembl_id\n",
    "0        NAT2  ENSG00000156006\n",
    "1    SERPINA3  ENSG00000196136\n",
    "2       AANAT  ENSG00000129673\n",
    "3       ABCA4  ENSG00000198691\n",
    "4        AOC1  ENSG00000002726"
   ]
  },
  {
   "cell_type": "markdown",
   "metadata": {},
   "source": [
    "### mapping data를 사용하여 CCLE_MCF7 dataframe 만들기"
   ]
  },
  {
   "cell_type": "code",
   "execution_count": null,
   "metadata": {},
   "outputs": [],
   "source": [
    "merged_data = pd.merge(selected_columns_copy, gene_mapping, on='gene_symbol', how='left')\n",
    "merged_data.info"
   ]
  },
  {
   "cell_type": "markdown",
   "metadata": {},
   "source": [
    "<bound method DataFrame.info of\n",
    "        gene_symbol   CCL_0772       ensembl_id\n",
    "0          DDX11L1   0.115042              NaN\n",
    "1           WASH7P  21.439021              NaN\n",
    "2      MIR1302-2HG   0.282656              NaN\n",
    "3          FAM138A   0.000000              NaN\n",
    "4           OR4G4P   0.000000              NaN\n",
    "...            ...        ...              ...\n",
    "35547      ELOCP24   0.000000              NaN\n",
    "35548       TRPC6P   0.131178              NaN\n",
    "35549         IL9R   1.371501  ENSG00000124334\n",
    "35550       WASIR1   2.354731              NaN\n",
    "35551     DDX11L16   0.033557              NaN\n",
    "\n",
    "[35552 rows x 3 columns]"
   ]
  },
  {
   "cell_type": "code",
   "execution_count": null,
   "metadata": {},
   "outputs": [],
   "source": [
    "merged_data.to_csv('/spstorage/INTERNSHIP/SY/CCLE_MCF7/CCLE_MCF7_merged.csv', index=True)\n",
    "kmap_DMSO.to_csv('/spstorage/INTERNSHIP/SY/CCLE_MCF7/kmap_DMSO_final.csv', index=True)"
   ]
  },
  {
   "cell_type": "markdown",
   "metadata": {},
   "source": [
    "## CCLE와 Kmap_DMSO 평균 값을 전부 알아 냈으니, ensembl_id를 사용해서 데이터 병합"
   ]
  },
  {
   "cell_type": "code",
   "execution_count": null,
   "metadata": {},
   "outputs": [],
   "source": [
    "# CCLE MCF7 데이터에서 ensembl_id가 NaN이 아닌 값만 추출\n",
    "ccle_mcf7 = merged_data.dropna(subset=['ensembl_id'])\n",
    "\n",
    "# 열 이름을 통일\n",
    "ccle_mcf7 = ccle_mcf7.rename(columns={'ensembl_id': 'ensembl_id', 'CCL_0772': 'CCLE_MCF7'})\n",
    "kmap_DMSO = kmap_DMSO.rename(columns={'Unnamed: 0': 'ensembl_id', 'averaged': 'KMAP_DMSO'})\n",
    "ccle_mcf7.to_csv('/spstorage/INTERNSHIP/SY/CCLE_MCF7/CCLE_MCF7_EDA.csv', index=True)\n",
    "\n",
    "# 두 데이터프레임을 ensembl_id 기준으로 병합\n",
    "# INNER JOIN - 두 데이터셋의 'ensembl_id'가 정확하게 일치하는 경우에만 병합됨\n",
    "merged_df = pd.merge(ccle_mcf7, kmap_DMSO, on='ensembl_id')\n",
    "merged_df.info"
   ]
  },
  {
   "cell_type": "markdown",
   "metadata": {},
   "source": [
    "<bound method DataFrame.info of       gene_symbol   CCLE_MCF7       ensembl_id   KMAP_DMSO\n",
    "0           NOC2L  126.669733  ENSG00000188976  111.670374\n",
    "1           ISG15  147.218195  ENSG00000187608  165.711190\n",
    "2            AGRN  121.564742  ENSG00000188157   92.373484\n",
    "3        C1orf159    9.234745  ENSG00000131591   16.124351\n",
    "4         TNFRSF4    0.000000  ENSG00000186827    0.068334\n",
    "...           ...         ...              ...         ...\n",
    "12013        ASMT    0.062533  ENSG00000196433    0.017552\n",
    "12014       ZBED1   10.997430  ENSG00000214717    5.941078\n",
    "12015        CD99  103.476397  ENSG00000002586  172.114577\n",
    "12016       VAMP7   92.669576  ENSG00000124333   40.340573\n",
    "12017        IL9R    1.371501  ENSG00000124334    0.072693\n",
    "\n",
    "[12018 rows x 4 columns]>"
   ]
  },
  {
   "cell_type": "code",
   "execution_count": null,
   "metadata": {},
   "outputs": [],
   "source": [
    "# 결측치 처리\n",
    "merged_df['CCLE_MCF7'].fillna(0, inplace=True)\n",
    "merged_df['KMAP_DMSO'].fillna(0, inplace=True)\n",
    "\n",
    "# scatter plot 그리기\n",
    "import matplotlib.pyplot as plt\n",
    "\n",
    "plt.scatter(merged_df['CCLE_MCF7'], merged_df['KMAP_DMSO'])\n",
    "plt.xlabel('CCLE MCF7')\n",
    "plt.ylabel('KMAP DMSO')\n",
    "plt.title('Scatter plot of CCLE MCF7 vs KMAP DMSO')\n",
    "plt.show()\n",
    "# 대부분 값들이 특정 범위에 집중 -> 유전자 발현 값들이 특정 범위 내에서 주로 측정됨\n",
    "\n",
    "# 상관 계수 계산\n",
    "correlation = merged_df['CCLE_MCF7'].corr(merged_df['KMAP_DMSO'])\n",
    "print(f\"상관 계수: {correlation}\")\n",
    "# 0.7801641855804342\n",
    "# 상관 계수가 1에 가깝기 때문에 두 데이터셋이 양의 상관관계를 가지고 있음을 알 수 있다"
   ]
  },
  {
   "cell_type": "code",
   "execution_count": null,
   "metadata": {},
   "outputs": [],
   "source": [
    "# 데이터의 범위가 넓고 특정 값이 집중돼 있어서 로그 변환으로 데이터 시각화\n",
    "\n",
    "# 로그 변환\n",
    "merged_df['CCLE_MCF7_log'] = np.log1p(merged_df['CCLE_MCF7'])\n",
    "merged_df['KMAP_DMSO_log'] = np.log1p(merged_df['KMAP_DMSO'])\n",
    "\n",
    "# 로그 스케일 점 그래프 그리기\n",
    "plt.scatter(merged_df['CCLE_MCF7_log'], merged_df['KMAP_DMSO_log'])\n",
    "plt.xlabel('Log(CCLE MCF7 + 1)')\n",
    "plt.ylabel('Log(KMAP DMSO + 1)')\n",
    "plt.title('Log-Transformed Scatter plot of CCLE MCF7 vs KMAP DMSO')\n",
    "plt.show()\n",
    "# 훨씬 강한 양의 상관관계를 가지는 것으로 보여짐\n",
    "\n",
    "# 상관 계수 계산\n",
    "# 로그 변환된 데이터 상관 계수 계산\n",
    "log_correlation = merged_df['CCLE_MCF7_log'].corr(merged_df['KMAP_DMSO_log'])\n",
    "log_correlation\n",
    "# 0.9416121343308346\n"
   ]
  }
 ],
 "metadata": {
  "language_info": {
   "name": "python"
  }
 },
 "nbformat": 4,
 "nbformat_minor": 2
}
