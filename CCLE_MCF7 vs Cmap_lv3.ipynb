{
 "cells": [
  {
   "cell_type": "markdown",
   "metadata": {},
   "source": [
    "# CMAP lv3 DMSO와 CCLE_MCF7사이의 관계(PLOT)"
   ]
  },
  {
   "cell_type": "markdown",
   "metadata": {},
   "source": [
    "## CMAP lv3의 MCF_DMSO 데이터값 추출 및 전처리"
   ]
  },
  {
   "cell_type": "code",
   "execution_count": null,
   "metadata": {},
   "outputs": [],
   "source": [
    "import pandas as pd\n",
    "import numpy as np\n",
    "import matplotlib.pyplot as plt\n",
    "\n",
    "cmap_lv3 = pd.read_csv('/위치/INTERNSHIP/SY/Cmap_raw_expression.csv')\n",
    "cmap_lv3.head()"
   ]
  },
  {
   "cell_type": "markdown",
   "metadata": {},
   "source": [
    "                         cid  ENSG00000156006  ENSG00000196839  ...  ENSG00000159197  ENSG00000070413  ENSG00000130489\n",
    "0  ABY001_A375_XH_X1_B15:A13           5.7191           7.4924  ...           5.7713           6.1668         9.168900\n",
    "1  ABY001_A375_XH_X1_B15:A14           5.3946           7.8669  ...           5.3994           5.9020         7.611651\n",
    "2  ABY001_A375_XH_X1_B15:A15           4.7285           7.0399  ...           5.5830           7.1669         9.145800\n",
    "3  ABY001_A375_XH_X1_B15:A16           5.5290           7.3355  ...           5.1261           6.4808         8.328100\n",
    "4  ABY001_A375_XH_X1_B15:A17           6.6110           6.5117  ...           5.6388           6.8784        10.499900\n",
    "\n",
    "[5 rows x 12277 columns]"
   ]
  },
  {
   "cell_type": "markdown",
   "metadata": {},
   "source": [
    "정보가 너무 많고 이중에서 DMSO를 찾는 것이 불가능할 것 같아 원본 데이터파일을 다시 확인"
   ]
  },
  {
   "cell_type": "code",
   "execution_count": null,
   "metadata": {},
   "outputs": [],
   "source": [
    "import anndata\n",
    "\n",
    "cmap_lv3_adata = anndata.read_h5ad('/위치/DB/CMAP/cmap03/anndata/level3_b_cp.h5ad')\n",
    "cmap_lv3_adata.obs"
   ]
  },
  {
   "cell_type": "markdown",
   "metadata": {},
   "source": [
    "                            bead_batch  nearest_dose  pert_dose pert_dose_unit  ... project_code      cmap_name      n_counts filter_pass\n",
    "cid                                                                             ...                                                      \n",
    "ABY001_A375_XH_X1_B15:A13          b15         10.00       10.0             uM  ...          ABY       afatinib  85810.156250           1\n",
    "ABY001_A375_XH_X1_B15:A14          b15         10.00       10.0             uM  ...          ABY      erlotinib  85608.671875           1\n",
    "ABY001_A375_XH_X1_B15:A15          b15         10.00       10.0             uM  ...          ABY      neratinib  85331.484375           1\n",
    "ABY001_A375_XH_X1_B15:A16          b15         10.00       10.0             uM  ...          ABY      lapatinib  85480.515625           1\n",
    "ABY001_A375_XH_X1_B15:A17          b15         10.00       10.0             uM  ...          ABY       afatinib  85490.625000           1\n",
    "...                                ...           ...        ...            ...  ...          ...            ...           ...         ...\n",
    "TSAI002_NPC-8_XH_X1_B18:J12        b18         10.00       10.0             uM  ...         TSAI            949  91989.164062           1\n",
    "TSAI002_NPC-8_XH_X1_B18:J14        b18          4.00        5.0             uM  ...         TSAI       SRT-3657  91930.750000           1\n",
    "TSAI002_NPC-8_XH_X1_B18:J16        b18          2.22        2.0             uM  ...         TSAI          compe  92026.265625           1\n",
    "TSAI002_NPC-8_XH_X1_B18:J20        b18         10.00       10.0             uM  ...         TSAI           C646  92026.687500           1\n",
    "TSAI002_NPC-8_XH_X1_B18:J22        b18         10.00       10.0             uM  ...         TSAI  BRD-A19037878  92473.703125           1\n",
    "\n",
    "[1805898 rows x 32 columns]"
   ]
  },
  {
   "cell_type": "code",
   "execution_count": null,
   "metadata": {},
   "outputs": [],
   "source": [
    "# DMSO 를 찾기 위해\n",
    "Cmap_DMSO_obs = cmap_lv3_adata.obs[cmap_lv3_adata.obs['pert_dose'] == 0]\n",
    "Cmap_DMSO_obs\n",
    "# EMPTY DataFrame"
   ]
  },
  {
   "cell_type": "code",
   "execution_count": null,
   "metadata": {},
   "outputs": [],
   "source": [
    "cmap_lv3_adata.obs.columns"
   ]
  },
  {
   "cell_type": "markdown",
   "metadata": {},
   "source": [
    "Index(['bead_batch', 'nearest_dose', 'pert_dose', 'pert_dose_unit',\n",
    "       'pert_idose', 'pert_time', 'pert_itime', 'pert_time_unit',\n",
    "       'cell_mfc_name', 'pert_mfc_id', 'det_plate', 'det_well', 'rna_plate',\n",
    "       'rna_well', 'count_mean', 'count_cv', 'qc_f_logp', 'qc_iqr', 'qc_slope',\n",
    "       'pert_id', 'sample_id', 'pert_type', 'cell_iname', 'qc_pass',\n",
    "       'dyn_range', 'inv_level_10', 'build_name', 'failure_mode',\n",
    "       'project_code', 'cmap_name', 'n_counts', 'filter_pass'],\n",
    "      dtype='object')"
   ]
  },
  {
   "cell_type": "code",
   "execution_count": null,
   "metadata": {},
   "outputs": [],
   "source": [
    "# new Data 또 불러오기\n",
    "cmap_lv3_adata = anndata.read_h5ad('/위치/DB/CMAP/cmap03/anndata/level3_b_ctrl.h5ad')\n",
    "cmap_lv3_adata.obs"
   ]
  },
  {
   "cell_type": "markdown",
   "metadata": {},
   "source": [
    "                                bead_batch  nearest_dose  pert_dose pert_dose_unit pert_idose  ...  failure_mode project_code cmap_name      n_counts filter_pass\n",
    "cid                                                                                            ...                                                               \n",
    "ABY001_A375_XH_X1_B15:A03              b15           NaN        NaN            NaN        NaN  ...           NaN          ABY      DMSO  85116.375000           1\n",
    "ABY001_A375_XH_X1_B15:A04              b15           NaN        NaN            NaN        NaN  ...           NaN          ABY      DMSO  85702.664062           1\n",
    "ABY001_A375_XH_X1_B15:A05              b15           NaN        NaN            NaN        NaN  ...           NaN          ABY      DMSO  85608.062500           1\n",
    "ABY001_A375_XH_X1_B15:A06              b15           NaN        NaN            NaN        NaN  ...           NaN          ABY      DMSO  85725.718750           1\n",
    "ABY001_A375_XH_X1_B15:A07              b15           NaN        NaN            NaN        NaN  ...           NaN          ABY      DMSO  85547.851562           1\n",
    "...                                    ...           ...        ...            ...        ...  ...           ...          ...       ...           ...         ...\n",
    "ZTO.XPR001_U937_408H_X1_B17:M22        b17           NaN        NaN            NaN        NaN  ...           NaN          ZTO     UnTrt  87853.195312           1\n",
    "ZTO.XPR001_U937_408H_X1_B17:N18        b17           NaN        NaN            NaN        NaN  ...           NaN          ZTO       GC1  87555.953125           1\n",
    "ZTO.XPR001_U937_408H_X1_B17:N20        b17           NaN        NaN            NaN        NaN  ...           NaN          ZTO       GC2  87730.484375           1\n",
    "ZTO.XPR001_U937_408H_X1_B17:N21        b17           NaN        NaN            NaN        NaN  ...           NaN          ZTO     UnTrt  88041.796875           1\n",
    "ZTO.XPR001_U937_408H_X1_B17:N22        b17           NaN        NaN            NaN        NaN  ...           NaN          ZTO     UnTrt  87699.390625           1\n",
    "\n",
    "[188708 rows x 32 columns]"
   ]
  },
  {
   "cell_type": "code",
   "execution_count": null,
   "metadata": {},
   "outputs": [],
   "source": [
    "cmap_lv3_adata[cmap_lv3_adata.obs.cmap_name == 'DMSO']\n",
    "# anndata 객체를 반환함\n",
    "# 원본 데이터 구조를 유지하고, 필터링된 관찰 값과 대응하는 변수 값 및 메타데이터를 포함\n",
    "\n",
    "cmap_lv3_adata[cmap_lv3_adata.obs.cmap_name == 'DMSO'].X"
   ]
  },
  {
   "cell_type": "markdown",
   "metadata": {},
   "source": [
    "ArrayView([[ 4.9006   ,  5.3892   ,  7.5947   , ...,  5.5083   ,\n",
    "             6.64185  ,  7.6685   ],\n",
    "           [ 5.5465   ,  6.1419   ,  7.3182993, ...,  5.3677   ,\n",
    "             6.1869   ,  8.7414   ],\n",
    "           [ 5.7332   ,  8.0249   ,  8.24     , ...,  5.2013   ,\n",
    "             6.6351   ,  7.4447   ],\n",
    "           ...,\n",
    "           [ 6.1566   ,  9.17275  , 14.36575  , ...,  6.0488997,\n",
    "             8.877199 ,  6.3379   ],\n",
    "           [ 7.38155  ,  7.8693   , 12.32465  , ...,  6.365275 ,\n",
    "             7.6524   ,  6.6475   ],\n",
    "           [ 6.6377497,  6.6656   , 13.8029995, ...,  5.9777   ,\n",
    "             7.8028502,  7.7679996]], dtype=float32)"
   ]
  },
  {
   "cell_type": "code",
   "execution_count": null,
   "metadata": {},
   "outputs": [],
   "source": [
    "ctrl_exp = pd.DataFrame(cmap_lv3_adata[cmap_lv3_adata.obs.cmap_name == 'DMSO'].X)\n",
    "ctrl_exp.shape\n",
    "# (101323, 12276)\n",
    "\n",
    "cmap_lv3_adata.var"
   ]
  },
  {
   "cell_type": "markdown",
   "metadata": {},
   "source": [
    "                 gene_id gene_symbol       ensembl_id                                         gene_title       gene_type   src  feature_space\n",
    "ensembl_id                                                                                                                                   \n",
    "ENSG00000156006       10        NAT2  ENSG00000156006                              N-acetyltransferase 2  protein-coding  NCBI       inferred\n",
    "ENSG00000196839      100         ADA  ENSG00000196839                                adenosine deaminase  protein-coding  NCBI  best inferred\n",
    "ENSG00000170558     1000        CDH2  ENSG00000170558                                         cadherin 2  protein-coding  NCBI  best inferred\n",
    "ENSG00000117020    10000        AKT3  ENSG00000117020                      AKT serine/threonine kinase 3  protein-coding  NCBI  best inferred\n",
    "ENSG00000133997    10001        MED6  ENSG00000133997                         mediator complex subunit 6  protein-coding  NCBI  best inferred\n",
    "...                  ...         ...              ...                                                ...             ...   ...            ...\n",
    "ENSG00000140199     9990     SLC12A6  ENSG00000140199                  solute carrier family 12 member 6  protein-coding  NCBI  best inferred\n",
    "ENSG00000119314     9991       PTBP3  ENSG00000119314             polypyrimidine tract binding protein 3  protein-coding  NCBI  best inferred\n",
    "ENSG00000159197     9992       KCNE2  ENSG00000159197  potassium voltage-gated channel subfamily E re...  protein-coding  NCBI       inferred\n",
    "ENSG00000070413     9993       DGCR2  ENSG00000070413           DiGeorge syndrome critical region gene 2  protein-coding  NCBI  best inferred\n",
    "ENSG00000130489     9997        SCO2  ENSG00000130489        SCO cytochrome c oxidase assembly protein 2  protein-coding  NCBI  best inferred\n",
    "\n",
    "[12276 rows x 7 columns]"
   ]
  },
  {
   "cell_type": "code",
   "execution_count": null,
   "metadata": {},
   "outputs": [],
   "source": [
    "ctrl_exp.columns = cmap_lv3_adata.var.index\n",
    "ctrl_exp"
   ]
  },
  {
   "cell_type": "markdown",
   "metadata": {},
   "source": [
    "ensembl_id  ENSG00000156006  ENSG00000196839  ENSG00000170558  ENSG00000117020  ...  ENSG00000119314  ENSG00000159197  ENSG00000070413  ENSG00000130489\n",
    "0                   4.90060          5.38920         7.594700         9.297800  ...          6.64510         5.508300         6.641850          7.66850\n",
    "1                   5.54650          6.14190         7.318299         8.282600  ...          6.50650         5.367700         6.186900          8.74140\n",
    "2                   5.73320          8.02490         8.240000         9.736200  ...          6.28990         5.201300         6.635100          7.44470\n",
    "3                   5.42500          6.07040         8.648200         8.948600  ...          6.59890         5.855400         6.556100          7.04085\n",
    "4                   4.58190          6.59800         7.090400         9.712200  ...          5.67980         5.876400         6.367100          7.81750\n",
    "...                     ...              ...              ...              ...  ...              ...              ...              ...              ...\n",
    "101318              6.14485          7.41610        12.991450         8.781750  ...          6.72675         5.889400         8.421050          7.79705\n",
    "101319              6.61170          6.94570        13.450100         9.663875  ...          6.61795         6.047850         8.341700          7.10095\n",
    "101320              6.15660          9.17275        14.365750         9.010300  ...          7.13200         6.048900         8.877199          6.33790\n",
    "101321              7.38155          7.86930        12.324650         7.765950  ...          7.21505         6.365275         7.652400          6.64750\n",
    "101322              6.63775          6.66560        13.802999         9.345650  ...          7.16695         5.977700         7.802850          7.76800\n",
    "\n",
    "[101323 rows x 12276 columns]\n"
   ]
  },
  {
   "cell_type": "code",
   "execution_count": null,
   "metadata": {},
   "outputs": [],
   "source": [
    "np.mean(ctrl_exp)"
   ]
  },
  {
   "cell_type": "markdown",
   "metadata": {},
   "source": [
    "ensembl_id\n",
    "ENSG00000156006    5.461255\n",
    "ENSG00000196839    8.002222\n",
    "ENSG00000170558    7.105532\n",
    "ENSG00000117020    7.989761\n",
    "ENSG00000133997    8.543332\n",
    "                     ...   \n",
    "ENSG00000140199    4.726830\n",
    "ENSG00000119314    6.008547\n",
    "ENSG00000159197    5.410623\n",
    "ENSG00000070413    7.640421\n",
    "ENSG00000130489    8.928848\n",
    "Length: 12276, dtype: float32\n"
   ]
  },
  {
   "cell_type": "code",
   "execution_count": null,
   "metadata": {},
   "outputs": [],
   "source": [
    "pd.DataFrame({'CMAP_DMSO' : np.mean(ctrl_exp)})"
   ]
  },
  {
   "cell_type": "markdown",
   "metadata": {},
   "source": [
    "                 CMAP_DMSO\n",
    "ensembl_id                \n",
    "ENSG00000156006   5.461255\n",
    "ENSG00000196839   8.002222\n",
    "ENSG00000170558   7.105532\n",
    "ENSG00000117020   7.989761\n",
    "ENSG00000133997   8.543332\n",
    "...                    ...\n",
    "ENSG00000140199   4.726830\n",
    "ENSG00000119314   6.008547\n",
    "ENSG00000159197   5.410623\n",
    "ENSG00000070413   7.640421\n",
    "ENSG00000130489   8.928848\n",
    "\n",
    "[12276 rows x 1 columns]\n"
   ]
  },
  {
   "cell_type": "code",
   "execution_count": null,
   "metadata": {},
   "outputs": [],
   "source": [
    "pd.DataFrame({'CMAP_DMSO' : np.mean(ctrl_exp)}).to_csv('/위치/INTERNSHIP/SY/CMAP/CMAP_lv3_DMSO')"
   ]
  },
  {
   "cell_type": "markdown",
   "metadata": {},
   "source": [
    "저장한 내용이 dmso일 뿐, MCF7이 아니기에 다시 dataframe 만들기 시도"
   ]
  },
  {
   "cell_type": "code",
   "execution_count": null,
   "metadata": {},
   "outputs": [],
   "source": [
    "cmap_lv3_adata.obs.cell_mfc_name"
   ]
  },
  {
   "cell_type": "markdown",
   "metadata": {},
   "source": [
    "cid\n",
    "ABY001_A375_XH_X1_B15:A03          A375\n",
    "ABY001_A375_XH_X1_B15:A04          A375\n",
    "ABY001_A375_XH_X1_B15:A05          A375\n",
    "ABY001_A375_XH_X1_B15:A06          A375\n",
    "ABY001_A375_XH_X1_B15:A07          A375\n",
    "                                   ... \n",
    "ZTO.XPR001_U937_408H_X1_B17:M22    U937\n",
    "ZTO.XPR001_U937_408H_X1_B17:N18    U937\n",
    "ZTO.XPR001_U937_408H_X1_B17:N20    U937\n",
    "ZTO.XPR001_U937_408H_X1_B17:N21    U937\n",
    "ZTO.XPR001_U937_408H_X1_B17:N22    U937\n",
    "Name: cell_mfc_name, Length: 188708, dtype: category\n",
    "Categories (309, object): ['1HAE', '15_2_NPC_2', '22RV1', '22_1_NPC_1', ..., 'YAPC', 'YAPC.311',\n",
    "                           'YH13', 'ZR751']"
   ]
  },
  {
   "cell_type": "code",
   "execution_count": null,
   "metadata": {},
   "outputs": [],
   "source": [
    "cmap_lv3_adata.obs.cell_mfc_name.unique().tolist()"
   ]
  },
  {
   "cell_type": "markdown",
   "metadata": {},
   "source": [
    "['A375', 'A549', 'H1975', 'HEPG2', 'HT29', 'NCIH1975', 'NCIH2073', 'NCIH508', 'NCIH596', 'PC3', 'SKBR3', 'SUDHL4', 'BJAB', 'HBL1', 'K562', 'KMS34', 'MINO', 'NALM6', 'OCILY10', 'OCILY19', 'OCILY3', 'SKMEL5', 'THP1', 'TMD8', 'CD34', 'HL60', 'U937', 'MCF7', '22RV1', 'A204', 'AGS', 'BC3C', 'BEN', 'BICR6', 'BT474', 'CAL29', 'CJM', 'COV434', 'ES2', 'G401', 'GI1', 'GP2D', 'HCC1588', 'HCC95', 'HEC108', 'HEC151', 'HEC1A', 'HEC251', 'HEC265', 'IGR37', 'IM95', 'JHH5', 'JHH7', 'LNCAP.FGC', 'MDAMB468', 'MELHO', 'MKN45', 'NCIH1437', 'NCIH1573', 'NCIH2110', 'NCIH2172', 'NCIH838', 'NCIH841', 'OAW28', 'OC316', 'OVK18', 'OVTOKO', 'RCC10RGB', 'SH4', 'SKES1', 'SKMEL3', 'SNU407', 'T47D', 'TC32', 'TOV112D', 'U251MG', 'YAPC', 'YH13', 'ZR751', 'U2OS', 'WA09.AST', 'XC.500', 'XC.L10', 'XC.P026', 'XC.P031', 'XC.P033', 'XC.P091', 'XC.P092', 'XC.P901', 'XC.P904', 'XC.P905', 'XC.P906', 'XC.P907', 'XC.P908', 'XC.P909', 'XC.P910', 'XC.P911', 'XC.P912', 'XC.P914', 'XC.P915', 'XC.P922', 'XC.P930', 'XC.P931', 'XC.P932', 'XC.P933', 'XC.P934', 'XC.P935', 'XC.P936', 'HEK293T', 'NPC.170', 'NPC.177', 'NPC.179', 'NPC.215', 'NPC.8330', 'HIMG001', 'HIMG002', 'HA1E', 'HCC515', 'VCAP', 'A673', 'CL34', 'CORL23', 'COV644', 'DV90', 'EFO27', 'H1299', 'HCC15', 'HCT116', 'HT115', 'JHUEM2', 'LOVO', 'MDST8', 'NCIH1694', 'NCIH1836', 'NOMO1', 'OV7', 'PL21', 'RKO', 'RMGI', 'RMUGS', 'SKLU1', 'SKM1', 'SKMEL1', 'SKMEL28', 'SNGM', 'SNU1040', 'SNUC4', 'SNUC5', 'SW480', 'SW620', 'SW948', 'T3M10', 'TYKNU', 'WSUDLCL2', 'ASC', 'NEU', 'NPC', 'PHH', 'SKB', 'HMELZ', 'MCF10A.TP53.M', 'MCF10A.WT.HP', 'MCF10A', 'HUH7', 'C42', 'DU145', 'LNCAP', 'SHSY5Y', 'CW2', 'H2110', 'MFE319', 'OC314', 'VMCUB1', '5637', 'AN3CA', 'H1563', 'H1781', 'HCC827', 'J82', 'LN229', 'OVCAR8', 'AALE', 'LHSAR', 'RWPE', 'MCLF117SZ', 'MCLF027CN', 'MCLF033SZ', 'MCLF051CN', 'MCLF123SZ', 'MCLF015CN', 'MCLF162SZ', 'MCLF022CN', 'MCLF076SZ', 'MCLF135CN', 'MCLF037SZ', 'MCLF126CN', 'MCLF141SZ', 'MCLF130CN', 'MCLF040SZ', 'MCLF054CN', 'MCLF100SZ', 'MCLF137CN', 'MCLF035SZ', 'MCLF056CN', 'MCLF0067SZ', 'HEK293', 'HCC44', 'MCF10A.EGFR.HD', 'MCF10A.EGFR.HL', 'MCF10A.IDH1.HR', 'MCF10A.PTEN.M', 'MCF10A.WTHP', 'MCF10A.WTLP.GM', 'MCF10A.WTLP', 'HCT116.TP53.HR', 'HCT116.TP53.M', 'HCT116.WT', 'MCF10A.BRCA1.HD', 'MCF10A.KRAS.HG', 'MCF10A.TP53.M.EGFR.HL', 'MCF10A.TP53.M.KRAS.HG', 'SKL', 'HS27A', 'HPTEC', 'MCF10A.PIK3CA.HH', 'MCF10A.WT', 'XC.L100.H', 'XC.L100.L', 'XC.L100.M', 'HUH751', 'BT20', 'HS578T', 'MDAMB231', 'HME1', 'ASC.C', 'HELA', 'HUES3', 'HUVEC', 'JURKAT', 'MNEU.E', 'NPC.CAS9', 'NPC.TAK', 'SKL.C', 'HUVEC.A', 'PHH.MGH', '1HAE', 'HFL1', 'IMR90', 'NL20', 'WI38', '293T', 'HME', 'HMLE', 'N8', 'HAP1.BRD4', 'HAP1.CDK4', 'HAP1.HDAC5', 'HAP1.ITGA4', 'HAP1.MAPK8', 'HAP1.PIK3CA', 'HAP1.PRKACA', 'HAP1.PRKCQ', 'HAP1.RELA', 'HAP1.SRC', 'HAP1.TP53', 'HAP1', 'NKDBA', 'P1A82', 'P2X2B2', 'FIBRNPC', 'XC.R10', 'U266', 'MCH58', 'NCIH716', 'DLD1', 'SALE', 'SKNSH', 'HEKTE', '15_2_NPC_2', '22_1_NPC_1', 'AG06263_2', 'AG06840_A', 'AG078N1_1', 'APP1_1_NPC_1', 'ND34732_7', 'SAD1_1_NPC_4', 'SAD2_1_NPC_2', 'SB1_NPC_3', 'IPS-15-2', 'IPS-3', 'IPS-ND34732', 'MICROGLIA-PSEN1', 'NPC-2', 'NPC-3', 'NPC-4', 'NPC-5', 'NPC-6', 'NPC-8', 'A375.311', 'A549.311', 'AGS.311', 'BICR6.311', 'ES2.311', 'HT29.311', 'MCF7.311', 'PC3.311B', 'U251MG.311', 'YAPC.311', 'TF1']"
   ]
  },
  {
   "cell_type": "markdown",
   "metadata": {},
   "source": [
    "MCF7 발견!!"
   ]
  },
  {
   "cell_type": "code",
   "execution_count": null,
   "metadata": {},
   "outputs": [],
   "source": [
    "cmap_lv3_adata[(cmap_lv3_adata.obs.cell_mfc_name == 'MCF7') & (cmap_lv3_adata.obs.cmap_name == 'DMSO')]"
   ]
  },
  {
   "cell_type": "markdown",
   "metadata": {},
   "source": [
    "View of AnnData object with n_obs × n_vars = 9954 × 12276\n",
    "    obs: 'bead_batch', 'nearest_dose', 'pert_dose', 'pert_dose_unit', 'pert_idose', 'pert_time', 'pert_itime', 'pert_time_unit', 'cell_mfc_name', 'pert_mfc_id', 'det_plate', 'det_well', 'rna_plate', 'rna_well', 'count_mean', 'count_cv', 'qc_f_logp', 'qc_iqr', 'qc_slope', 'pert_id', 'sample_id', 'pert_type', 'cell_iname', 'qc_pass', 'dyn_range', 'inv_level_10', 'build_name', 'failure_mode', 'project_code', 'cmap_name', 'n_counts', 'filter_pass'\n",
    "    var: 'gene_id', 'gene_symbol', 'ensembl_id', 'gene_title', 'gene_type', 'src', 'feature_space'"
   ]
  },
  {
   "cell_type": "code",
   "execution_count": null,
   "metadata": {},
   "outputs": [],
   "source": [
    "ctrl_mcf7_adata = cmap_lv3_adata[(cmap_lv3_adata.obs.cell_mfc_name == 'MCF7') & (cmap_lv3_adata.obs.cmap_name == 'DMSO')]\n",
    "ctrl_mcf7_adata.X"
   ]
  },
  {
   "cell_type": "markdown",
   "metadata": {},
   "source": [
    "ArrayView([[6.6147   , 6.5324   , 1.3317   , ..., 5.9986   , 7.9364   ,\n",
    "            8.9608   ],\n",
    "           [7.2692   , 6.7049   , 0.9733   , ..., 5.79645  , 7.9409   ,\n",
    "            9.3269   ],\n",
    "           [6.1281   , 6.906    , 2.5351   , ..., 6.2628   , 7.7716994,\n",
    "            8.8377   ],\n",
    "           ...,\n",
    "           [4.710075 , 7.64335  , 5.9482   , ..., 4.9779253, 6.50815  ,\n",
    "            8.176201 ],\n",
    "           [4.9816   , 6.415225 , 6.6828   , ..., 4.85175  , 6.7015   ,\n",
    "            8.544625 ],\n",
    "           [5.0701   , 6.94     , 6.8037996, ..., 4.91155  , 6.65005  ,\n",
    "            8.4693   ]], dtype=float32)"
   ]
  },
  {
   "cell_type": "code",
   "execution_count": null,
   "metadata": {},
   "outputs": [],
   "source": [
    "np.mean(ctrl_mcf7_adata.X)\n",
    "# ArrayView(7.2307897, dtype=float32)\n",
    "\n",
    "np.mean(ctrl_mcf7_adata.X, axis = 1)\n",
    "#ArrayView([7.1746254, 7.2128367, 7.2055225, ..., 7.1941423, 7.170479 ,\n",
    "#           7.1848793], dtype=float32)\n",
    "\n",
    "np.mean(ctrl_mcf7_adata.X, axis = 1).shape\n",
    "# (9954,)\n",
    "\n",
    "np.mean(ctrl_mcf7_adata.X, axis = 0).shape\n",
    "# (12276,)\n",
    "\n",
    "mean_exp = np.mean(ctrl_mcf7_adata.X, axis = 0)\n",
    "mean_exp = pd.DataFrame({'mean_exp' : mean_exp})\n",
    "mean_exp"
   ]
  },
  {
   "cell_type": "markdown",
   "metadata": {},
   "source": [
    "       mean_exp\n",
    "0      5.347212\n",
    "1      7.386325\n",
    "2      4.610625\n",
    "3      6.360420\n",
    "4      8.902173\n",
    "...         ...\n",
    "12271  4.580041\n",
    "12272  6.672643\n",
    "12273  5.493924\n",
    "12274  7.571823\n",
    "12275  8.800751"
   ]
  },
  {
   "cell_type": "code",
   "execution_count": null,
   "metadata": {},
   "outputs": [],
   "source": [
    "ctrl_mcf7_adata.var.index"
   ]
  },
  {
   "cell_type": "markdown",
   "metadata": {},
   "source": [
    "Index(['ENSG00000156006', 'ENSG00000196839', 'ENSG00000170558',\n",
    "       'ENSG00000117020', 'ENSG00000133997', 'ENSG00000077616',\n",
    "       'ENSG00000168060', 'ENSG00000101473', 'ENSG00000136754',\n",
    "       'ENSG00000113552',\n",
    "       ...\n",
    "       'ENSG00000100918', 'ENSG00000152795', 'ENSG00000135164',\n",
    "       'ENSG00000154845', 'ENSG00000039068', 'ENSG00000140199',\n",
    "       'ENSG00000119314', 'ENSG00000159197', 'ENSG00000070413',\n",
    "       'ENSG00000130489'],\n",
    "      dtype='object', name='ensembl_id', length=12276)\n"
   ]
  },
  {
   "cell_type": "code",
   "execution_count": null,
   "metadata": {},
   "outputs": [],
   "source": [
    "mean_exp.index = ctrl_mcf7_adata.var.index\n",
    "mean_exp"
   ]
  },
  {
   "cell_type": "markdown",
   "metadata": {},
   "source": [
    "                 mean_exp\n",
    "ensembl_id               \n",
    "ENSG00000156006  5.347212\n",
    "ENSG00000196839  7.386325\n",
    "ENSG00000170558  4.610625\n",
    "ENSG00000117020  6.360420\n",
    "ENSG00000133997  8.902173\n",
    "...                   ...\n",
    "ENSG00000140199  4.580041\n",
    "ENSG00000119314  6.672643\n",
    "ENSG00000159197  5.493924\n",
    "ENSG00000070413  7.571823\n",
    "ENSG00000130489  8.800751\n",
    "\n",
    "[12276 rows x 1 columns]"
   ]
  },
  {
   "cell_type": "code",
   "execution_count": null,
   "metadata": {},
   "outputs": [],
   "source": [
    "mean_exp.to_csv('/위치/INTERNSHIP/SY/CMAP/CMAP_lv3_MCF7_DMSO.csv')"
   ]
  },
  {
   "cell_type": "markdown",
   "metadata": {},
   "source": [
    "## CCLE_MCF7 데이터 불러온 후 병합"
   ]
  },
  {
   "cell_type": "code",
   "execution_count": null,
   "metadata": {},
   "outputs": [],
   "source": [
    "ccle = pd.read_csv('/위치/INTERNSHIP/SY/CCLE_MCF7/CCLE_MCF7_merged.csv')\n",
    "ccle_mcf7 = ccle.dropna(subset=['ensembl_id'])\n",
    "ccle_mcf7.info"
   ]
  },
  {
   "cell_type": "markdown",
   "metadata": {},
   "source": [
    "bound method DataFrame.info of\n",
    "        Unnamed: 0 gene_symbol    CCL_0772       ensembl_id\n",
    "29             29       NOC2L  126.669733  ENSG00000188976\n",
    "34             34       ISG15  147.218195  ENSG00000187608\n",
    "35             35        AGRN  121.564742  ENSG00000188157\n",
    "37             37    C1orf159    9.234745  ENSG00000131591\n",
    "45             45     TNFRSF4    0.000000  ENSG00000186827\n",
    "...           ...         ...         ...              ...\n",
    "35539       35539        ASMT    0.062533  ENSG00000196433\n",
    "35541       35541       ZBED1   10.997430  ENSG00000214717\n",
    "35543       35543        CD99  103.476397  ENSG00000002586\n",
    "35546       35546       VAMP7   92.669576  ENSG00000124333\n",
    "35549       35549        IL9R    1.371501  ENSG00000124334\n",
    "\n",
    "[12035 rows x 4 columns]>"
   ]
  },
  {
   "cell_type": "code",
   "execution_count": null,
   "metadata": {},
   "outputs": [],
   "source": [
    "ccle_mcf7 = ccle_mcf7.rename(columns={'ensembl_id': 'ensembl_id', 'CCL_0772': 'CCLE_MCF7'})\n",
    "mean_exp = mean_exp.rename(columns={'ensembl_id': 'ensembl_id', 'mean_exp': 'CMAP_DMSO'})\n",
    "\n",
    "# inner join으로 ensembl_id 기준 병합\n",
    "merged_df = pd.merge(ccle_mcf7, mean_exp, on='ensembl_id')\n",
    "merged_df.info"
   ]
  },
  {
   "cell_type": "markdown",
   "metadata": {},
   "source": [
    "bound method DataFrame.info of\n",
    "        Unnamed: 0 gene_symbol   CCLE_MCF7       ensembl_id  CMAP_DMSO\n",
    "0              29       NOC2L  126.669733  ENSG00000188976   9.789937\n",
    "1              34       ISG15  147.218195  ENSG00000187608   8.117984\n",
    "2              35        AGRN  121.564742  ENSG00000188157  10.340495\n",
    "3              37    C1orf159    9.234745  ENSG00000131591   5.759269\n",
    "4              45     TNFRSF4    0.000000  ENSG00000186827   5.289747\n",
    "...           ...         ...         ...              ...        ...\n",
    "12030       35539        ASMT    0.062533  ENSG00000196433   5.348296\n",
    "12031       35541       ZBED1   10.997430  ENSG00000214717   7.098354\n",
    "12032       35543        CD99  103.476397  ENSG00000002586   8.151823\n",
    "12033       35546       VAMP7   92.669576  ENSG00000124333   8.304985\n",
    "12034       35549        IL9R    1.371501  ENSG00000124334   6.565355\n",
    "\n",
    "[12035 rows x 5 columns]>"
   ]
  },
  {
   "cell_type": "code",
   "execution_count": null,
   "metadata": {},
   "outputs": [],
   "source": [
    "# 결측치 처리\n",
    "merged_df['CCLE_MCF7'].fillna(0, inplace=True)\n",
    "merged_df['CMAP_DMSO'].fillna(0, inplace=True)"
   ]
  },
  {
   "cell_type": "markdown",
   "metadata": {},
   "source": [
    "## Scatter Plot"
   ]
  },
  {
   "cell_type": "code",
   "execution_count": null,
   "metadata": {},
   "outputs": [],
   "source": [
    "plt.scatter(merged_df['CCLE_MCF7'], merged_df['CMAP_DMSO'])\n",
    "plt.xlabel('CCLE MCF7')\n",
    "plt.ylabel('CMAP DMSO')\n",
    "plt.title('Scatter plot of CCLE MCF7 vs CMAP DMSO')\n",
    "plt.show()\n",
    "# 데이터의 대부분이 x축의 특정 범위에만 집중되어 있음\n",
    "\n",
    "# 상관 계수 계산\n",
    "correlation = merged_df['CCLE_MCF7'].corr(merged_df['CMAP_DMSO'])\n",
    "correlation\n",
    "# 0.3675175781128807"
   ]
  },
  {
   "cell_type": "markdown",
   "metadata": {},
   "source": [
    "상관 계수가 너무 낮음\n",
    "극단적인 outliers가 있어서 그런듯"
   ]
  },
  {
   "cell_type": "markdown",
   "metadata": {},
   "source": [
    "### 로그 변환"
   ]
  },
  {
   "cell_type": "code",
   "execution_count": null,
   "metadata": {},
   "outputs": [],
   "source": [
    "# 로그 변환\n",
    "merged_df['CCLE_MCF7_log'] = np.log1p(merged_df['CCLE_MCF7'])\n",
    "merged_df['KMAP_DMSO_log'] = np.log1p(merged_df['KMAP_DMSO'])\n",
    "\n",
    "# 로그 변환된 데이터로 산점도 그리기\n",
    "plt.scatter(merged_df['CCLE_MCF7_log'], merged_df['CMAP_DMSO_log'])\n",
    "plt.xlabel('Log(CCLE MCF7 + 1)')\n",
    "plt.ylabel('Log(CMAP DMSO + 1)')\n",
    "plt.title('Log-Transformed Scatter plot of CCLE MCF7 vs CMAP DMSO')\n",
    "plt.show()\n",
    "# 약간 상관관계를 가지는 것으로 보여짐\n",
    "\n",
    "# 상관 계수 계산\n",
    "# 로그 변환된 데이터 상관 계수 계산\n",
    "log_correlation = merged_df['CCLE_MCF7_log'].corr(merged_df['CMAP_DMSO_log'])\n",
    "log_correlation\n",
    "# 0.7352583855745589"
   ]
  },
  {
   "cell_type": "markdown",
   "metadata": {},
   "source": [
    "상관계수가 증가했지만 확실한 유의미성을 가지는지 알기 어려움\n",
    "P-val 값을 계산해서 통계적 유의미성을 판단하기로 결정\n",
    "\n",
    "Cmap은 +1을 하지 않아도 될것 같다고 하여 재시도"
   ]
  },
  {
   "cell_type": "code",
   "execution_count": null,
   "metadata": {},
   "outputs": [],
   "source": [
    "# 로그변환을 위한 최소값 확인\n",
    "\n",
    "print(f'CCLE MCF7 최소값: {merged_df[\"CCLE_MCF7\"].min()}')\n",
    "# CCLE MCF7 최소값: 0.0\n",
    "\n",
    "print(f'CMAP DMSO 최소값: {merged_df[\"CMAP_DMSO\"].min()}')\n",
    "# CMAP DMSO 최소값: 0.3477243185043335\n",
    "\n",
    "# 로그 변환\n",
    "merged_df['CCLE_MCF7_log'] = np.log1p(merged_df['CCLE_MCF7'])\n",
    "merged_df['CMAP_DMSO_log'] = np.log(merged_df['CMAP_DMSO'])\n",
    "# CMAP은 +1을 하지 않아도 될것 같음\n",
    "\n",
    "# 로그 변환된 데이터로 산점도 그리기\n",
    "plt.scatter(merged_df['CCLE_MCF7_log'], merged_df['CMAP_DMSO_log'])\n",
    "plt.xlabel('Log(CCLE MCF7 + 1)')\n",
    "plt.ylabel('Log(CMAP DMSO)')\n",
    "plt.title('Log-Transformed Scatter plot of CCLE MCF7 vs CMAP DMSO')\n",
    "plt.show()\n",
    "\n",
    "# 로그 변환된 데이터의 상관 계수 계산\n",
    "log_correlation = merged_df['CCLE_MCF7_log'].corr(merged_df['CMAP_DMSO_log'])\n",
    "print(f'로그 변환 후 상관 계수: {log_correlation}')\n",
    "# 로그 변환 후 상관 계수: 0.7264936041160656"
   ]
  },
  {
   "cell_type": "markdown",
   "metadata": {},
   "source": [
    "### 로그 변환 값의 P-val"
   ]
  },
  {
   "cell_type": "code",
   "execution_count": null,
   "metadata": {},
   "outputs": [],
   "source": [
    "import scipy.stats as stats\n",
    "\n",
    "# Pearson 상관계수와 그 상관 관계의 통계적 유의성 \n",
    "correlation_coefficient, p_value = stats.pearsonr(merged_df['CCLE_MCF7_log'], merged_df['CMAP_DMSO_log'])\n",
    "correlation_coefficient\n",
    "# 0.7352583855745587\n",
    "# 선형관계가 강하고 양의 상관관계가 있음\n",
    "\n",
    "p_value\n",
    "# 0.0\n",
    "# 통계적으로 완전 유의미함"
   ]
  }
 ],
 "metadata": {
  "language_info": {
   "name": "python"
  }
 },
 "nbformat": 4,
 "nbformat_minor": 2
}
